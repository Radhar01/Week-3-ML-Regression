{
 "cells": [
  {
   "cell_type": "code",
   "execution_count": 1,
   "id": "2563b594-770a-4d6c-9f7f-bf3d0f8d3df7",
   "metadata": {},
   "outputs": [],
   "source": [
    "#Importing the required packages\n",
    "import pickle"
   ]
  },
  {
   "cell_type": "code",
   "execution_count": 3,
   "id": "cf8e3d69-1d3d-4ff5-b9f5-4f6752a07091",
   "metadata": {},
   "outputs": [],
   "source": [
    "#Opening the model using load function\n",
    "load_model=pickle.load(open('mulline_final.sav','rb'))"
   ]
  },
  {
   "cell_type": "code",
   "execution_count": 4,
   "id": "4a7e8f92-cf96-4adc-988b-4c77278585c9",
   "metadata": {},
   "outputs": [
    {
     "name": "stderr",
     "output_type": "stream",
     "text": [
      "C:\\Anaconda\\Lib\\site-packages\\sklearn\\base.py:493: UserWarning: X does not have valid feature names, but LinearRegression was fitted with feature names\n",
      "  warnings.warn(\n"
     ]
    }
   ],
   "source": [
    "#Loading the predicted value for an input input into result variable\n",
    "result=load_model.predict([[1234,2345,3456,0,1]])"
   ]
  },
  {
   "cell_type": "code",
   "execution_count": 5,
   "id": "2187ebab-f4cf-40b0-a79f-3c06c73ca446",
   "metadata": {},
   "outputs": [
    {
     "data": {
      "text/plain": [
       "array([[40027.52529618]])"
      ]
     },
     "execution_count": 5,
     "metadata": {},
     "output_type": "execute_result"
    }
   ],
   "source": [
    "#Printing the result for verification\n",
    "result"
   ]
  },
  {
   "cell_type": "code",
   "execution_count": null,
   "id": "b5a7e03a-c922-4f5f-b614-29f24b5f06e3",
   "metadata": {},
   "outputs": [],
   "source": []
  }
 ],
 "metadata": {
  "kernelspec": {
   "display_name": "Python 3 (ipykernel)",
   "language": "python",
   "name": "python3"
  },
  "language_info": {
   "codemirror_mode": {
    "name": "ipython",
    "version": 3
   },
   "file_extension": ".py",
   "mimetype": "text/x-python",
   "name": "python",
   "nbconvert_exporter": "python",
   "pygments_lexer": "ipython3",
   "version": "3.12.4"
  }
 },
 "nbformat": 4,
 "nbformat_minor": 5
}
